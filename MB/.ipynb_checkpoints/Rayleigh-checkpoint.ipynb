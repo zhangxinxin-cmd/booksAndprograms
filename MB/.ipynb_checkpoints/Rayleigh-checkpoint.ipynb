{
 "cells": [
  {
   "cell_type": "code",
   "execution_count": 3,
   "metadata": {
    "collapsed": false
   },
   "outputs": [
    {
     "name": "stdout",
     "output_type": "stream",
     "text": [
      "Populating the interactive namespace from numpy and matplotlib\n",
      "Using matplotlib backend: MacOSX\n",
      "Populating the interactive namespace from numpy and matplotlib\n"
     ]
    }
   ],
   "source": [
    "%pylab inline\n",
    "%pylab\n",
    "from matplotlib import animation\n",
    "choreography=genfromtxt(\"Rayleigh.csv\",delimiter=\",\")\n",
    "x=choreography[:,0]\n",
    "#x2=choreography[:,3]\n",
    "#x3=choreography[:,5]\n",
    "y=choreography[:,2]\n",
    "#y2=choreography[:,4]\n",
    "#y3=choreography[:,6]\n",
    "#t=choreography[:,0]\n",
    "# Solo las posiciones de los planetas\n",
    "%matplotlib osx\n",
    "fig=figure()\n",
    "ax = fig.add_subplot(111, autoscale_on=False, xlim=(-36, 36), ylim=(-36, 36))\n",
    "ax.grid()\n",
    "line, = ax.plot([], [], 'o', lw=2)\n",
    "#time_template = 'time = %.1fs'\n",
    "#time_text = ax.text(0.05, 0.9, '', transform=ax.transAxes)\n",
    "dt = 0.05\n",
    "def init():\n",
    "    line.set_data([], [])\n",
    "   #time_text.set_text('')\n",
    "    return line\n",
    "\n",
    "def animate(i):\n",
    "    thisx = [x[i]]\n",
    "    thisy = [y[i]]\n",
    "\n",
    "    line.set_data(thisx, thisy)\n",
    "    #time_text.set_text(time_template%(i*dt))\n",
    "    return line\n",
    "\n",
    "ani = animation.FuncAnimation(fig, animate, 401600,\n",
    "    interval=25, blit=False, init_func=init)\n",
    "\n",
    "show()"
   ]
  },
  {
   "cell_type": "code",
   "execution_count": null,
   "metadata": {
    "collapsed": true
   },
   "outputs": [],
   "source": []
  },
  {
   "cell_type": "code",
   "execution_count": null,
   "metadata": {
    "collapsed": true
   },
   "outputs": [],
   "source": []
  }
 ],
 "metadata": {
  "kernelspec": {
   "display_name": "Python 2",
   "language": "python",
   "name": "python2"
  },
  "language_info": {
   "codemirror_mode": {
    "name": "ipython",
    "version": 2
   },
   "file_extension": ".py",
   "mimetype": "text/x-python",
   "name": "python",
   "nbconvert_exporter": "python",
   "pygments_lexer": "ipython2",
   "version": "2.7.10"
  }
 },
 "nbformat": 4,
 "nbformat_minor": 0
}
